{
 "cells": [
  {
   "cell_type": "code",
   "execution_count": 29,
   "metadata": {},
   "outputs": [],
   "source": [
    "import pandas as pd\n",
    "import numpy as np\n",
    "df = pd.read_csv('hotel_bookings.csv')\n",
    "df_names = df.copy()"
   ]
  },
  {
   "cell_type": "code",
   "execution_count": 30,
   "metadata": {},
   "outputs": [
    {
     "data": {
      "text/plain": [
       "pandas.core.series.Series"
      ]
     },
     "execution_count": 30,
     "metadata": {},
     "output_type": "execute_result"
    }
   ],
   "source": [
    "df.drop(columns=['agent','company',\"reservation_status\"],inplace=True)\n",
    "df['country'].fillna(inplace=True,value=df['country'].mode)\n",
    "df['children'].fillna(inplace=True,value=0)\n",
    "df['reservation_status_date'] = pd.to_datetime(df['reservation_status_date'])\n",
    "type(df['reservation_status_date'])"
   ]
  },
  {
   "cell_type": "code",
   "execution_count": 31,
   "metadata": {},
   "outputs": [],
   "source": [
    "def convertirMesEscritoNumero(df,columna_a_editar):\n",
    "    month_mapping = {\n",
    "        'January': 1,\n",
    "        'February': 2,\n",
    "        'March': 3,\n",
    "        'April': 4,\n",
    "        'May': 5,\n",
    "        'June': 6,\n",
    "        'July': 7,\n",
    "        'August': 8,\n",
    "        'September': 9,\n",
    "        'October': 10,\n",
    "        'November': 11,\n",
    "        'December': 12\n",
    "    }\n",
    "    df[columna_a_editar] = df[columna_a_editar].apply(lambda x: month_mapping[x.capitalize()] if x.capitalize() in month_mapping else None)\n",
    "\n",
    "convertirMesEscritoNumero(df,'arrival_date_month')"
   ]
  },
  {
   "cell_type": "code",
   "execution_count": 32,
   "metadata": {},
   "outputs": [],
   "source": [
    "df['reservation_status_date'] = pd.to_datetime(df['reservation_status_date'])\n",
    "# df['reservation_status_date'].value_counts()\n",
    "# df['reservation_status_date'].dt.day"
   ]
  },
  {
   "cell_type": "code",
   "execution_count": 33,
   "metadata": {},
   "outputs": [],
   "source": [
    "def funcion_agrupoacion_cut(labels,bins,df_columna):\n",
    "    # Agrupación de una columna de data sets\n",
    "        # [0, 2), [2, 3), [3, ∞) Estos serán los limites que ajusto\n",
    "    if(len(labels) == len(bins)-1):\n",
    "        return pd.cut(df_columna, bins=bins, labels=labels, right=False)\n",
    "    else:\n",
    "        print(\"\\x1b[1;31m\",'\\nEl datos labels o bins está mal estructurado',\"\\033[0;m\")\n",
    "        print(\"\\t Ejemplo: labels = ['0', '10', '20', '30+']  bins = [0, 10, 20, 30, float('inf')]\\n\") "
   ]
  },
  {
   "cell_type": "code",
   "execution_count": 34,
   "metadata": {},
   "outputs": [],
   "source": [
    "# print(df['adults'].value_counts().sort_index())\n",
    "df['adults'] = funcion_agrupoacion_cut(labels = ['1', '2', '3'], bins = [0, 2, 3, float('inf')], df_columna=df['adults'])\n",
    "# df['adults'].value_counts().sort_index()"
   ]
  },
  {
   "cell_type": "code",
   "execution_count": 35,
   "metadata": {},
   "outputs": [],
   "source": [
    "# print(df['adr'].value_counts().sort_index())\n",
    "df['adr'] = funcion_agrupoacion_cut(labels = ['1', '2', '3', '4'], bins = [0, 50, 100, 150, float('inf')], df_columna=df['adr'])\n",
    "# df['adr'].value_counts().sort_index()"
   ]
  },
  {
   "cell_type": "code",
   "execution_count": 36,
   "metadata": {},
   "outputs": [],
   "source": [
    "# print(df['children'].value_counts().sort_index())\n",
    "df['children'] = funcion_agrupoacion_cut(labels = ['0', '1', '2', '3'], bins = [0, 1, 2, 3, float('inf')], df_columna=df['children'])\n",
    "# df['children'].value_counts().sort_index()"
   ]
  },
  {
   "cell_type": "code",
   "execution_count": 37,
   "metadata": {},
   "outputs": [],
   "source": [
    "# print(df['babies'].value_counts().sort_index())\n",
    "df['babies'] = funcion_agrupoacion_cut(labels = ['0', '1', '2'], bins = [0, 1, 2, float('inf')], df_columna=df['babies'])\n",
    "# df['babies'].value_counts().sort_index()"
   ]
  },
  {
   "cell_type": "code",
   "execution_count": 38,
   "metadata": {},
   "outputs": [],
   "source": [
    "def categorico_a_numerico_mapeo(columna, dft):\n",
    "    # print(dft[columna].value_counts().sort_index())\n",
    "    columnas = dft[columna].unique()\n",
    "    mapeo = {}\n",
    "    let = 1\n",
    "    for col in columnas:\n",
    "        mapeo[col] = let\n",
    "        let+=1\n",
    "\n",
    "    dft[columna] = dft[columna].replace(mapeo)\n",
    "    # print(df[columna].value_counts().sort_index())\n",
    "    return dft"
   ]
  },
  {
   "cell_type": "code",
   "execution_count": 39,
   "metadata": {},
   "outputs": [],
   "source": [
    "df = categorico_a_numerico_mapeo('customer_type',df)\n",
    "df = categorico_a_numerico_mapeo(\"deposit_type\",df)\n",
    "df = categorico_a_numerico_mapeo(\"assigned_room_type\",df)\n",
    "df = categorico_a_numerico_mapeo(\"reserved_room_type\",df)\n",
    "df = categorico_a_numerico_mapeo(\"meal\",df)\n",
    "df = categorico_a_numerico_mapeo(\"market_segment\",df)\n",
    "df = categorico_a_numerico_mapeo(\"distribution_channel\",df)\n",
    "df = categorico_a_numerico_mapeo(\"country\",df)\n",
    "# print(df['country'].value_counts())"
   ]
  },
  {
   "cell_type": "code",
   "execution_count": 40,
   "metadata": {},
   "outputs": [],
   "source": [
    "df['country'] = funcion_agrupoacion_cut(bins=[0, 100, 1000, float('inf')], labels=['1', '2', '3'], df_columna=df['country'].astype(\"int\"))\n",
    "# df['country'].value_counts()"
   ]
  },
  {
   "cell_type": "code",
   "execution_count": 41,
   "metadata": {},
   "outputs": [],
   "source": [
    "df['hotel'] = np.where(df[\"hotel\"] == \"City Hotel\", 0, 1)"
   ]
  },
  {
   "cell_type": "markdown",
   "metadata": {},
   "source": [
    "# **El dataset no está balanceado**\n",
    "Ya que tenemos muy pocos casos de fraude por lo que el modelo puede no ser capaz de diferenciar entre fraude y correcto uso de la tarjeta."
   ]
  },
  {
   "cell_type": "code",
   "execution_count": 42,
   "metadata": {},
   "outputs": [
    {
     "data": {
      "text/plain": [
       "is_canceled\n",
       "0    75166\n",
       "1    44224\n",
       "Name: count, dtype: int64"
      ]
     },
     "execution_count": 42,
     "metadata": {},
     "output_type": "execute_result"
    }
   ],
   "source": [
    "df['is_canceled'].value_counts()"
   ]
  },
  {
   "cell_type": "code",
   "execution_count": 43,
   "metadata": {},
   "outputs": [
    {
     "name": "stdout",
     "output_type": "stream",
     "text": [
      "(44224, 29)\n",
      "(75166, 29)\n"
     ]
    }
   ],
   "source": [
    "cancelado = df[df.is_canceled == 1]\n",
    "no_cancelado = df[df.is_canceled == 0]\n",
    "print(cancelado.shape)\n",
    "print(no_cancelado.shape)"
   ]
  },
  {
   "cell_type": "code",
   "execution_count": 44,
   "metadata": {},
   "outputs": [
    {
     "name": "stdout",
     "output_type": "stream",
     "text": [
      "(44548, 29)\n"
     ]
    }
   ],
   "source": [
    "no_cancelado = df[df['is_canceled'] == 0].sample(n=len(cancelado)+324, random_state=42)\n",
    "print(no_cancelado.shape)"
   ]
  },
  {
   "cell_type": "code",
   "execution_count": 45,
   "metadata": {},
   "outputs": [
    {
     "data": {
      "text/plain": [
       "is_canceled\n",
       "0    75166\n",
       "1    44224\n",
       "Name: count, dtype: int64"
      ]
     },
     "execution_count": 45,
     "metadata": {},
     "output_type": "execute_result"
    }
   ],
   "source": [
    "df['is_canceled'].value_counts()"
   ]
  },
  {
   "cell_type": "code",
   "execution_count": 46,
   "metadata": {},
   "outputs": [
    {
     "data": {
      "text/html": [
       "<div>\n",
       "<style scoped>\n",
       "    .dataframe tbody tr th:only-of-type {\n",
       "        vertical-align: middle;\n",
       "    }\n",
       "\n",
       "    .dataframe tbody tr th {\n",
       "        vertical-align: top;\n",
       "    }\n",
       "\n",
       "    .dataframe thead th {\n",
       "        text-align: right;\n",
       "    }\n",
       "</style>\n",
       "<table border=\"1\" class=\"dataframe\">\n",
       "  <thead>\n",
       "    <tr style=\"text-align: right;\">\n",
       "      <th></th>\n",
       "      <th>hotel</th>\n",
       "      <th>is_canceled</th>\n",
       "      <th>lead_time</th>\n",
       "      <th>arrival_date_year</th>\n",
       "      <th>arrival_date_month</th>\n",
       "      <th>arrival_date_week_number</th>\n",
       "      <th>arrival_date_day_of_month</th>\n",
       "      <th>stays_in_weekend_nights</th>\n",
       "      <th>stays_in_week_nights</th>\n",
       "      <th>adults</th>\n",
       "      <th>...</th>\n",
       "      <th>reserved_room_type</th>\n",
       "      <th>assigned_room_type</th>\n",
       "      <th>booking_changes</th>\n",
       "      <th>deposit_type</th>\n",
       "      <th>days_in_waiting_list</th>\n",
       "      <th>customer_type</th>\n",
       "      <th>adr</th>\n",
       "      <th>required_car_parking_spaces</th>\n",
       "      <th>total_of_special_requests</th>\n",
       "      <th>reservation_status_date</th>\n",
       "    </tr>\n",
       "  </thead>\n",
       "  <tbody>\n",
       "    <tr>\n",
       "      <th>8</th>\n",
       "      <td>1</td>\n",
       "      <td>1</td>\n",
       "      <td>85</td>\n",
       "      <td>2015</td>\n",
       "      <td>7</td>\n",
       "      <td>27</td>\n",
       "      <td>1</td>\n",
       "      <td>0</td>\n",
       "      <td>3</td>\n",
       "      <td>2</td>\n",
       "      <td>...</td>\n",
       "      <td>2</td>\n",
       "      <td>2</td>\n",
       "      <td>0</td>\n",
       "      <td>1</td>\n",
       "      <td>0</td>\n",
       "      <td>1</td>\n",
       "      <td>2</td>\n",
       "      <td>0</td>\n",
       "      <td>1</td>\n",
       "      <td>2015-05-06</td>\n",
       "    </tr>\n",
       "    <tr>\n",
       "      <th>9</th>\n",
       "      <td>1</td>\n",
       "      <td>1</td>\n",
       "      <td>75</td>\n",
       "      <td>2015</td>\n",
       "      <td>7</td>\n",
       "      <td>27</td>\n",
       "      <td>1</td>\n",
       "      <td>0</td>\n",
       "      <td>3</td>\n",
       "      <td>2</td>\n",
       "      <td>...</td>\n",
       "      <td>3</td>\n",
       "      <td>3</td>\n",
       "      <td>0</td>\n",
       "      <td>1</td>\n",
       "      <td>0</td>\n",
       "      <td>1</td>\n",
       "      <td>3</td>\n",
       "      <td>0</td>\n",
       "      <td>0</td>\n",
       "      <td>2015-04-22</td>\n",
       "    </tr>\n",
       "    <tr>\n",
       "      <th>10</th>\n",
       "      <td>1</td>\n",
       "      <td>1</td>\n",
       "      <td>23</td>\n",
       "      <td>2015</td>\n",
       "      <td>7</td>\n",
       "      <td>27</td>\n",
       "      <td>1</td>\n",
       "      <td>0</td>\n",
       "      <td>4</td>\n",
       "      <td>2</td>\n",
       "      <td>...</td>\n",
       "      <td>4</td>\n",
       "      <td>4</td>\n",
       "      <td>0</td>\n",
       "      <td>1</td>\n",
       "      <td>0</td>\n",
       "      <td>1</td>\n",
       "      <td>3</td>\n",
       "      <td>0</td>\n",
       "      <td>0</td>\n",
       "      <td>2015-06-23</td>\n",
       "    </tr>\n",
       "    <tr>\n",
       "      <th>27</th>\n",
       "      <td>1</td>\n",
       "      <td>1</td>\n",
       "      <td>60</td>\n",
       "      <td>2015</td>\n",
       "      <td>7</td>\n",
       "      <td>27</td>\n",
       "      <td>1</td>\n",
       "      <td>2</td>\n",
       "      <td>5</td>\n",
       "      <td>2</td>\n",
       "      <td>...</td>\n",
       "      <td>4</td>\n",
       "      <td>4</td>\n",
       "      <td>0</td>\n",
       "      <td>1</td>\n",
       "      <td>0</td>\n",
       "      <td>1</td>\n",
       "      <td>3</td>\n",
       "      <td>0</td>\n",
       "      <td>2</td>\n",
       "      <td>2015-05-11</td>\n",
       "    </tr>\n",
       "    <tr>\n",
       "      <th>32</th>\n",
       "      <td>1</td>\n",
       "      <td>1</td>\n",
       "      <td>96</td>\n",
       "      <td>2015</td>\n",
       "      <td>7</td>\n",
       "      <td>27</td>\n",
       "      <td>1</td>\n",
       "      <td>2</td>\n",
       "      <td>8</td>\n",
       "      <td>2</td>\n",
       "      <td>...</td>\n",
       "      <td>4</td>\n",
       "      <td>4</td>\n",
       "      <td>0</td>\n",
       "      <td>1</td>\n",
       "      <td>0</td>\n",
       "      <td>1</td>\n",
       "      <td>3</td>\n",
       "      <td>0</td>\n",
       "      <td>2</td>\n",
       "      <td>2015-05-29</td>\n",
       "    </tr>\n",
       "  </tbody>\n",
       "</table>\n",
       "<p>5 rows × 29 columns</p>\n",
       "</div>"
      ],
      "text/plain": [
       "    hotel  is_canceled  lead_time  arrival_date_year  arrival_date_month  \\\n",
       "8       1            1         85               2015                   7   \n",
       "9       1            1         75               2015                   7   \n",
       "10      1            1         23               2015                   7   \n",
       "27      1            1         60               2015                   7   \n",
       "32      1            1         96               2015                   7   \n",
       "\n",
       "    arrival_date_week_number  arrival_date_day_of_month  \\\n",
       "8                         27                          1   \n",
       "9                         27                          1   \n",
       "10                        27                          1   \n",
       "27                        27                          1   \n",
       "32                        27                          1   \n",
       "\n",
       "    stays_in_weekend_nights  stays_in_week_nights adults  ...  \\\n",
       "8                         0                     3      2  ...   \n",
       "9                         0                     3      2  ...   \n",
       "10                        0                     4      2  ...   \n",
       "27                        2                     5      2  ...   \n",
       "32                        2                     8      2  ...   \n",
       "\n",
       "   reserved_room_type assigned_room_type  booking_changes deposit_type  \\\n",
       "8                   2                  2                0            1   \n",
       "9                   3                  3                0            1   \n",
       "10                  4                  4                0            1   \n",
       "27                  4                  4                0            1   \n",
       "32                  4                  4                0            1   \n",
       "\n",
       "    days_in_waiting_list  customer_type  adr  required_car_parking_spaces  \\\n",
       "8                      0              1    2                            0   \n",
       "9                      0              1    3                            0   \n",
       "10                     0              1    3                            0   \n",
       "27                     0              1    3                            0   \n",
       "32                     0              1    3                            0   \n",
       "\n",
       "    total_of_special_requests  reservation_status_date  \n",
       "8                           1               2015-05-06  \n",
       "9                           0               2015-04-22  \n",
       "10                          0               2015-06-23  \n",
       "27                          2               2015-05-11  \n",
       "32                          2               2015-05-29  \n",
       "\n",
       "[5 rows x 29 columns]"
      ]
     },
     "execution_count": 46,
     "metadata": {},
     "output_type": "execute_result"
    }
   ],
   "source": [
    "df = pd.concat([cancelado, no_cancelado], axis=0)\n",
    "df.head()"
   ]
  },
  {
   "cell_type": "code",
   "execution_count": 47,
   "metadata": {},
   "outputs": [
    {
     "data": {
      "text/plain": [
       "hotel                             0\n",
       "is_canceled                       0\n",
       "lead_time                         0\n",
       "arrival_date_year                 0\n",
       "arrival_date_month                0\n",
       "arrival_date_week_number          0\n",
       "arrival_date_day_of_month         0\n",
       "stays_in_weekend_nights           0\n",
       "stays_in_week_nights              0\n",
       "adults                            0\n",
       "children                          0\n",
       "babies                            0\n",
       "meal                              0\n",
       "country                           0\n",
       "market_segment                    0\n",
       "distribution_channel              0\n",
       "is_repeated_guest                 0\n",
       "previous_cancellations            0\n",
       "previous_bookings_not_canceled    0\n",
       "reserved_room_type                0\n",
       "assigned_room_type                0\n",
       "booking_changes                   0\n",
       "deposit_type                      0\n",
       "days_in_waiting_list              0\n",
       "customer_type                     0\n",
       "adr                               1\n",
       "required_car_parking_spaces       0\n",
       "total_of_special_requests         0\n",
       "reservation_status_date           0\n",
       "dtype: int64"
      ]
     },
     "execution_count": 47,
     "metadata": {},
     "output_type": "execute_result"
    }
   ],
   "source": [
    "df.isnull().sum()"
   ]
  },
  {
   "cell_type": "code",
   "execution_count": 48,
   "metadata": {},
   "outputs": [],
   "source": [
    "# Como hay un nulo, en la columna adr por asegurar creo una funcion bucle que llena los pequeños nulos con la moda\n",
    "### IMPORTANTE, SOLO CUANDO SE GENERA UNO O DOS NULOS, NO MUCHOS!!!\n",
    "# df = df['is_canceled']\n",
    "def moda_pocos_nulos(col,dft):\n",
    "    if df[col].isnull().sum() != 0:\n",
    "        df[col].fillna(df[col].mode().iloc[0])\n",
    "\n",
    "# No funcionaba la funcion, asi que he echo lo siguiente:\n",
    "df.dropna(subset=['adr'],inplace=True)\n"
   ]
  },
  {
   "cell_type": "code",
   "execution_count": 49,
   "metadata": {},
   "outputs": [
    {
     "data": {
      "text/plain": [
       "hotel                             0\n",
       "is_canceled                       0\n",
       "lead_time                         0\n",
       "arrival_date_year                 0\n",
       "arrival_date_month                0\n",
       "arrival_date_week_number          0\n",
       "arrival_date_day_of_month         0\n",
       "stays_in_weekend_nights           0\n",
       "stays_in_week_nights              0\n",
       "adults                            0\n",
       "children                          0\n",
       "babies                            0\n",
       "meal                              0\n",
       "country                           0\n",
       "market_segment                    0\n",
       "distribution_channel              0\n",
       "is_repeated_guest                 0\n",
       "previous_cancellations            0\n",
       "previous_bookings_not_canceled    0\n",
       "reserved_room_type                0\n",
       "assigned_room_type                0\n",
       "booking_changes                   0\n",
       "deposit_type                      0\n",
       "days_in_waiting_list              0\n",
       "customer_type                     0\n",
       "adr                               0\n",
       "required_car_parking_spaces       0\n",
       "total_of_special_requests         0\n",
       "reservation_status_date           0\n",
       "dtype: int64"
      ]
     },
     "execution_count": 49,
     "metadata": {},
     "output_type": "execute_result"
    }
   ],
   "source": [
    "df.isnull().sum()"
   ]
  },
  {
   "cell_type": "markdown",
   "metadata": {},
   "source": [
    "# **Normalizamos y separamos los datos**"
   ]
  },
  {
   "cell_type": "code",
   "execution_count": 50,
   "metadata": {},
   "outputs": [
    {
     "data": {
      "text/plain": [
       "is_canceled\n",
       "0    44547\n",
       "1    44224\n",
       "Name: count, dtype: int64"
      ]
     },
     "execution_count": 50,
     "metadata": {},
     "output_type": "execute_result"
    }
   ],
   "source": [
    "y = df['is_canceled']\n",
    "X = df.drop(columns=['is_canceled', 'reservation_status_date'], axis=1)\n",
    "\n",
    "y.value_counts()"
   ]
  },
  {
   "cell_type": "code",
   "execution_count": 51,
   "metadata": {},
   "outputs": [
    {
     "name": "stdout",
     "output_type": "stream",
     "text": [
      "(71016, 27) (17755, 27) (71016,) (17755,)\n"
     ]
    }
   ],
   "source": [
    "from sklearn.model_selection import train_test_split\n",
    "\n",
    "X_train, X_test, y_train, y_test = train_test_split(X,y,train_size=0.8,random_state=42)\n",
    "print(X_train.shape, X_test.shape, y_train.shape, y_test.shape )"
   ]
  },
  {
   "cell_type": "markdown",
   "metadata": {},
   "source": [
    "# Ahora a hacer Modelos\n"
   ]
  },
  {
   "cell_type": "code",
   "execution_count": 56,
   "metadata": {},
   "outputs": [],
   "source": [
    "from sklearn.compose import ColumnTransformer\n",
    "from sklearn.pipeline import Pipeline\n",
    "from sklearn.preprocessing import RobustScaler\n",
    "from sklearn.decomposition import PCA\n",
    "from sklearn.feature_selection import RFE\n",
    "from sklearn.ensemble import RandomForestClassifier\n",
    "from sklearn.metrics import accuracy_score, confusion_matrix, classification_report\n",
    "\n",
    "# Crear un pipeline con RobustScaler, PCA, Backward Elimination y RandomForestClassifier\n",
    "from sklearn.pipeline import make_pipeline\n",
    "\n",
    "pipeline = Pipeline([\n",
    "    ('scaler', RobustScaler()),  \n",
    "    ('pca', PCA()),              \n",
    "    ('feature_selection', RFE(estimator=RandomForestClassifier(), n_features_to_select=5)),  \n",
    "    ('classifier', RandomForestClassifier())  \n",
    "])\n",
    "\n"
   ]
  },
  {
   "cell_type": "markdown",
   "metadata": {},
   "source": [
    "  <h1>Explicación del Pipeline</h1>\n",
    "\n",
    "  <p>\n",
    "    En aprendizaje automático, un <strong>pipeline</strong> es una secuencia de pasos que se aplican secuencialmente para procesar y modelar datos.\n",
    "  </p>\n",
    "\n",
    "  <h2>1. Robust Scaler</h2>\n",
    "  <p>\n",
    "    <strong>Robust Scaler</strong> es un paso de preprocesamiento que normaliza los datos, haciéndolos robustos frente a valores atípicos. Esto es útil para mantener la escala de las características en presencia de datos atípicos.\n",
    "  </p>\n",
    "\n",
    "  <h2>2. PCA (Análisis de Componentes Principales)</h2>\n",
    "  <p>\n",
    "    El paso de <strong>PCA</strong> reduce la dimensionalidad de los datos al extraer las características más importantes. Esto facilita el manejo de conjuntos de datos grandes y complejos al preservar la información relevante.\n",
    "  </p>\n",
    "\n",
    "  <h2>3. RFE (Eliminación Recursiva de Características)</h2>\n",
    "  <p>\n",
    "    <strong>RFE</strong> es una técnica de selección de características que utiliza un clasificador (Random Forest en este caso) para eliminar de manera recursiva las características menos importantes. Ayuda a simplificar el modelo y mejora la eficiencia computacional.\n",
    "  </p>\n",
    "\n",
    "  <h2>4. Random Forest Classifier</h2>\n",
    "  <p>\n",
    "    <strong>Random Forest Classifier</strong> es un modelo de clasificación que utiliza múltiples árboles de decisión para realizar predicciones. Es conocido por su robustez y capacidad para manejar conjuntos de datos complejos.\n",
    "  </p>\n"
   ]
  },
  {
   "cell_type": "code",
   "execution_count": 57,
   "metadata": {},
   "outputs": [
    {
     "data": {
      "text/html": [
       "<style>#sk-container-id-1 {color: black;}#sk-container-id-1 pre{padding: 0;}#sk-container-id-1 div.sk-toggleable {background-color: white;}#sk-container-id-1 label.sk-toggleable__label {cursor: pointer;display: block;width: 100%;margin-bottom: 0;padding: 0.3em;box-sizing: border-box;text-align: center;}#sk-container-id-1 label.sk-toggleable__label-arrow:before {content: \"▸\";float: left;margin-right: 0.25em;color: #696969;}#sk-container-id-1 label.sk-toggleable__label-arrow:hover:before {color: black;}#sk-container-id-1 div.sk-estimator:hover label.sk-toggleable__label-arrow:before {color: black;}#sk-container-id-1 div.sk-toggleable__content {max-height: 0;max-width: 0;overflow: hidden;text-align: left;background-color: #f0f8ff;}#sk-container-id-1 div.sk-toggleable__content pre {margin: 0.2em;color: black;border-radius: 0.25em;background-color: #f0f8ff;}#sk-container-id-1 input.sk-toggleable__control:checked~div.sk-toggleable__content {max-height: 200px;max-width: 100%;overflow: auto;}#sk-container-id-1 input.sk-toggleable__control:checked~label.sk-toggleable__label-arrow:before {content: \"▾\";}#sk-container-id-1 div.sk-estimator input.sk-toggleable__control:checked~label.sk-toggleable__label {background-color: #d4ebff;}#sk-container-id-1 div.sk-label input.sk-toggleable__control:checked~label.sk-toggleable__label {background-color: #d4ebff;}#sk-container-id-1 input.sk-hidden--visually {border: 0;clip: rect(1px 1px 1px 1px);clip: rect(1px, 1px, 1px, 1px);height: 1px;margin: -1px;overflow: hidden;padding: 0;position: absolute;width: 1px;}#sk-container-id-1 div.sk-estimator {font-family: monospace;background-color: #f0f8ff;border: 1px dotted black;border-radius: 0.25em;box-sizing: border-box;margin-bottom: 0.5em;}#sk-container-id-1 div.sk-estimator:hover {background-color: #d4ebff;}#sk-container-id-1 div.sk-parallel-item::after {content: \"\";width: 100%;border-bottom: 1px solid gray;flex-grow: 1;}#sk-container-id-1 div.sk-label:hover label.sk-toggleable__label {background-color: #d4ebff;}#sk-container-id-1 div.sk-serial::before {content: \"\";position: absolute;border-left: 1px solid gray;box-sizing: border-box;top: 0;bottom: 0;left: 50%;z-index: 0;}#sk-container-id-1 div.sk-serial {display: flex;flex-direction: column;align-items: center;background-color: white;padding-right: 0.2em;padding-left: 0.2em;position: relative;}#sk-container-id-1 div.sk-item {position: relative;z-index: 1;}#sk-container-id-1 div.sk-parallel {display: flex;align-items: stretch;justify-content: center;background-color: white;position: relative;}#sk-container-id-1 div.sk-item::before, #sk-container-id-1 div.sk-parallel-item::before {content: \"\";position: absolute;border-left: 1px solid gray;box-sizing: border-box;top: 0;bottom: 0;left: 50%;z-index: -1;}#sk-container-id-1 div.sk-parallel-item {display: flex;flex-direction: column;z-index: 1;position: relative;background-color: white;}#sk-container-id-1 div.sk-parallel-item:first-child::after {align-self: flex-end;width: 50%;}#sk-container-id-1 div.sk-parallel-item:last-child::after {align-self: flex-start;width: 50%;}#sk-container-id-1 div.sk-parallel-item:only-child::after {width: 0;}#sk-container-id-1 div.sk-dashed-wrapped {border: 1px dashed gray;margin: 0 0.4em 0.5em 0.4em;box-sizing: border-box;padding-bottom: 0.4em;background-color: white;}#sk-container-id-1 div.sk-label label {font-family: monospace;font-weight: bold;display: inline-block;line-height: 1.2em;}#sk-container-id-1 div.sk-label-container {text-align: center;}#sk-container-id-1 div.sk-container {/* jupyter's `normalize.less` sets `[hidden] { display: none; }` but bootstrap.min.css set `[hidden] { display: none !important; }` so we also need the `!important` here to be able to override the default hidden behavior on the sphinx rendered scikit-learn.org. See: https://github.com/scikit-learn/scikit-learn/issues/21755 */display: inline-block !important;position: relative;}#sk-container-id-1 div.sk-text-repr-fallback {display: none;}</style><div id=\"sk-container-id-1\" class=\"sk-top-container\"><div class=\"sk-text-repr-fallback\"><pre>Pipeline(steps=[(&#x27;scaler&#x27;, RobustScaler()), (&#x27;pca&#x27;, PCA()),\n",
       "                (&#x27;feature_selection&#x27;,\n",
       "                 RFE(estimator=RandomForestClassifier(),\n",
       "                     n_features_to_select=5)),\n",
       "                (&#x27;classifier&#x27;, RandomForestClassifier())])</pre><b>In a Jupyter environment, please rerun this cell to show the HTML representation or trust the notebook. <br />On GitHub, the HTML representation is unable to render, please try loading this page with nbviewer.org.</b></div><div class=\"sk-container\" hidden><div class=\"sk-item sk-dashed-wrapped\"><div class=\"sk-label-container\"><div class=\"sk-label sk-toggleable\"><input class=\"sk-toggleable__control sk-hidden--visually\" id=\"sk-estimator-id-1\" type=\"checkbox\" ><label for=\"sk-estimator-id-1\" class=\"sk-toggleable__label sk-toggleable__label-arrow\">Pipeline</label><div class=\"sk-toggleable__content\"><pre>Pipeline(steps=[(&#x27;scaler&#x27;, RobustScaler()), (&#x27;pca&#x27;, PCA()),\n",
       "                (&#x27;feature_selection&#x27;,\n",
       "                 RFE(estimator=RandomForestClassifier(),\n",
       "                     n_features_to_select=5)),\n",
       "                (&#x27;classifier&#x27;, RandomForestClassifier())])</pre></div></div></div><div class=\"sk-serial\"><div class=\"sk-item\"><div class=\"sk-estimator sk-toggleable\"><input class=\"sk-toggleable__control sk-hidden--visually\" id=\"sk-estimator-id-2\" type=\"checkbox\" ><label for=\"sk-estimator-id-2\" class=\"sk-toggleable__label sk-toggleable__label-arrow\">RobustScaler</label><div class=\"sk-toggleable__content\"><pre>RobustScaler()</pre></div></div></div><div class=\"sk-item\"><div class=\"sk-estimator sk-toggleable\"><input class=\"sk-toggleable__control sk-hidden--visually\" id=\"sk-estimator-id-3\" type=\"checkbox\" ><label for=\"sk-estimator-id-3\" class=\"sk-toggleable__label sk-toggleable__label-arrow\">PCA</label><div class=\"sk-toggleable__content\"><pre>PCA()</pre></div></div></div><div class=\"sk-item sk-dashed-wrapped\"><div class=\"sk-label-container\"><div class=\"sk-label sk-toggleable\"><input class=\"sk-toggleable__control sk-hidden--visually\" id=\"sk-estimator-id-4\" type=\"checkbox\" ><label for=\"sk-estimator-id-4\" class=\"sk-toggleable__label sk-toggleable__label-arrow\">feature_selection: RFE</label><div class=\"sk-toggleable__content\"><pre>RFE(estimator=RandomForestClassifier(), n_features_to_select=5)</pre></div></div></div><div class=\"sk-parallel\"><div class=\"sk-parallel-item\"><div class=\"sk-item\"><div class=\"sk-label-container\"><div class=\"sk-label sk-toggleable\"><input class=\"sk-toggleable__control sk-hidden--visually\" id=\"sk-estimator-id-5\" type=\"checkbox\" ><label for=\"sk-estimator-id-5\" class=\"sk-toggleable__label sk-toggleable__label-arrow\">estimator: RandomForestClassifier</label><div class=\"sk-toggleable__content\"><pre>RandomForestClassifier()</pre></div></div></div><div class=\"sk-serial\"><div class=\"sk-item\"><div class=\"sk-estimator sk-toggleable\"><input class=\"sk-toggleable__control sk-hidden--visually\" id=\"sk-estimator-id-6\" type=\"checkbox\" ><label for=\"sk-estimator-id-6\" class=\"sk-toggleable__label sk-toggleable__label-arrow\">RandomForestClassifier</label><div class=\"sk-toggleable__content\"><pre>RandomForestClassifier()</pre></div></div></div></div></div></div></div></div><div class=\"sk-item\"><div class=\"sk-estimator sk-toggleable\"><input class=\"sk-toggleable__control sk-hidden--visually\" id=\"sk-estimator-id-7\" type=\"checkbox\" ><label for=\"sk-estimator-id-7\" class=\"sk-toggleable__label sk-toggleable__label-arrow\">RandomForestClassifier</label><div class=\"sk-toggleable__content\"><pre>RandomForestClassifier()</pre></div></div></div></div></div></div></div>"
      ],
      "text/plain": [
       "Pipeline(steps=[('scaler', RobustScaler()), ('pca', PCA()),\n",
       "                ('feature_selection',\n",
       "                 RFE(estimator=RandomForestClassifier(),\n",
       "                     n_features_to_select=5)),\n",
       "                ('classifier', RandomForestClassifier())])"
      ]
     },
     "execution_count": 57,
     "metadata": {},
     "output_type": "execute_result"
    }
   ],
   "source": [
    "pipeline.fit(X=X_train,y=y_train)"
   ]
  },
  {
   "cell_type": "markdown",
   "metadata": {},
   "source": [
    "# OJO!!! Ha tardado 20 minutos este modelo"
   ]
  },
  {
   "cell_type": "code",
   "execution_count": 58,
   "metadata": {},
   "outputs": [
    {
     "name": "stdout",
     "output_type": "stream",
     "text": [
      "Accuracy on Training Data:  0.9905795876985468\n",
      "Accuracy on Test Data:  0.8170656153196283\n"
     ]
    }
   ],
   "source": [
    "# Accuracy en training data\n",
    "Y_pred = pipeline.predict(X_train)\n",
    "training_data_accuracy = accuracy_score( y_pred = Y_pred , y_true = y_train )\n",
    "print('Accuracy on Training Data: ',training_data_accuracy)\n",
    "\n",
    "# Accuracy en test data\n",
    "y_pred = pipeline.predict(X_test)\n",
    "test_data_accuracy = accuracy_score( y_pred = y_pred, y_true = y_test )\n",
    "print('Accuracy on Test Data: ',test_data_accuracy)"
   ]
  },
  {
   "cell_type": "code",
   "execution_count": 59,
   "metadata": {},
   "outputs": [
    {
     "name": "stdout",
     "output_type": "stream",
     "text": [
      "              precision    recall  f1-score   support\n",
      "\n",
      "           0       0.79      0.86      0.82      8848\n",
      "           1       0.84      0.78      0.81      8907\n",
      "\n",
      "    accuracy                           0.82     17755\n",
      "   macro avg       0.82      0.82      0.82     17755\n",
      "weighted avg       0.82      0.82      0.82     17755\n",
      "\n"
     ]
    }
   ],
   "source": [
    "# métricas de clasificación\n",
    "report = classification_report(y_true=y_test, y_pred=y_pred)\n",
    "print(report)"
   ]
  },
  {
   "cell_type": "code",
   "execution_count": 63,
   "metadata": {},
   "outputs": [
    {
     "name": "stdout",
     "output_type": "stream",
     "text": [
      "[[7569 1279]\n",
      " [1969 6938]]\n"
     ]
    },
    {
     "data": {
      "image/png": "[encoded data removed]",
      "text/plain": [
       "<Figure size 640x480 with 2 Axes>"
      ]
     },
     "metadata": {},
     "output_type": "display_data"
    }
   ],
   "source": [
    "import seaborn as sns\n",
    "import matplotlib.pyplot as plt\n",
    "cm = confusion_matrix( y_true = y_test , y_pred = y_pred )\n",
    "print(cm)\n",
    "sns.heatmap(cm, annot=True, cmap='Blues_r' ,fmt='d')\n",
    "plt.ylabel(\"Actual Values\")\n",
    "plt.xlabel(\"Predicted Values\")\n",
    "plt.show()"
   ]
  },
  {
   "cell_type": "markdown",
   "metadata": {},
   "source": [
    "<!DOCTYPE html>\n",
    "<html lang=\"es\">\n",
    "<head>\n",
    "  <meta charset=\"UTF-8\">\n",
    "  <meta name=\"viewport\" content=\"width=device-width, initial-scale=1.0\">\n",
    "  <title>Matriz de Confusión</title>\n",
    "</head>\n",
    "<body>\n",
    "  <p>La matriz de confusión generalmente tiene cuatro términos:</p>\n",
    "\n",
    "  <ul>\n",
    "    <li><strong>Verdaderos positivos (TP):</strong> 7569</li>\n",
    "    <li><strong>Falsos positivos (FP):</strong> 1279</li>\n",
    "    <li><strong>Falsos negativos (FN):</strong> 1969</li>\n",
    "    <li><strong>Verdaderos negativos (TN):</strong> 6938</li>\n",
    "  </ul>\n",
    "\n",
    "  <p>Interpretación detallada:</p>\n",
    "\n",
    "  <ul>\n",
    "    <li><strong>Verdaderos positivos (TP):</strong> Este valor (7569) representa la cantidad de instancias que fueron correctamente clasificadas como positivas por el modelo. En términos simples, son los casos en los que el modelo predijo correctamente que la instancia pertenece a la clase positiva.</li>\n",
    "    <li><strong>Falsos positivos (FP):</strong> Este valor (1279) indica la cantidad de instancias que fueron incorrectamente clasificadas como positivas por el modelo. Es decir, el modelo predijo que eran positivas, pero en realidad pertenecían a la clase negativa.</li>\n",
    "    <li><strong>Falsos negativos (FN):</strong> Este valor (1969) representa la cantidad de instancias que fueron incorrectamente clasificadas como negativas por el modelo. Es decir, el modelo predijo que eran negativas, pero en realidad pertenecían a la clase positiva.</li>\n",
    "    <li><strong>Verdaderos negativos (TN):</strong> Este valor (6938) indica la cantidad de instancias que fueron correctamente clasificadas como negativas por el modelo. Son los casos en los que el modelo predijo correctamente que la instancia pertenece a la clase negativa.</li>\n",
    "  </ul>\n",
    "</body>\n",
    "</html>\n"
   ]
  },
  {
   "cell_type": "code",
   "execution_count": 60,
   "metadata": {},
   "outputs": [
    {
     "data": {
      "image/png": "[encoded data removed]",
      "text/plain": [
       "<Figure size 1200x600 with 1 Axes>"
      ]
     },
     "metadata": {},
     "output_type": "display_data"
    },
    {
     "data": {
      "image/png": "[encoded data removed]",
      "text/plain": [
       "<Figure size 1200x600 with 1 Axes>"
      ]
     },
     "metadata": {},
     "output_type": "display_data"
    },
    {
     "data": {
      "image/png": "[encoded data removed]",
      "text/plain": [
       "<Figure size 1200x600 with 1 Axes>"
      ]
     },
     "metadata": {},
     "output_type": "display_data"
    }
   ],
   "source": [
    "# Selecciona solo las columnas categóricas\n",
    "categorical_cols = df.select_dtypes(include=['category']).columns\n",
    "\n",
    "import matplotlib.pyplot as plt\n",
    "import seaborn as sns\n",
    "\n",
    "categorical_cols = ['market_segment', 'distribution_channel', 'customer_type']\n",
    "\n",
    "# Gráfico de barras para columnas que yo selecciono\n",
    "for col in categorical_cols:\n",
    "    plt.figure(figsize=(12, 6))\n",
    "                    # Nombres Originales # Col Objetivo en y        # Colores           # Ordeno las columnas de mayor a menor\n",
    "    ax = sns.countplot(x=df_names[col], hue='is_canceled', data=df, palette='pastel',order=df_names[col].value_counts().index)\n",
    "    plt.title(f'Distribución de Cancelaciones por {col}')\n",
    "\n",
    "# Etiquetas de la leytenda\n",
    "    handles, labels = ax.get_legend_handles_labels()\n",
    "    labels = ['No Cancelan', 'Cancelan']\n",
    "    ax.legend(handles, labels)\n",
    "\n",
    "    plt.show()\n",
    "# Si la barra es más alta en la categoría \"Cancelado\" (por ejemplo, si hay más barras azules), \n",
    "    # significa que hay más reservas canceladas en esa categoría en particular.\n",
    "\n",
    "# Si la barra es más baja en la categoría \"Cancelado\" (por ejemplo, si hay más barras naranjas), \n",
    "    # significa que hay menos reservas canceladas en esa categoría."
   ]
  }
 ],
 "metadata": {
  "kernelspec": {
   "display_name": "Python 3",
   "language": "python",
   "name": "python3"
  },
  "language_info": {
   "codemirror_mode": {
    "name": "ipython",
    "version": 3
   },
   "file_extension": ".py",
   "mimetype": "text/x-python",
   "name": "python",
   "nbconvert_exporter": "python",
   "pygments_lexer": "ipython3",
   "version": "3.11.7"
  }
 },
 "nbformat": 4,
 "nbformat_minor": 2
}
